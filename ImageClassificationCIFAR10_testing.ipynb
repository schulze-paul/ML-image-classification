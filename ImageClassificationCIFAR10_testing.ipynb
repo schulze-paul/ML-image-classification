{
 "cells": [
  {
   "cell_type": "markdown",
   "id": "7fdb185f",
   "metadata": {},
   "source": [
    "# Image classification on the CIFAR10 dataset "
   ]
  },
  {
   "cell_type": "markdown",
   "id": "401f982e",
   "metadata": {},
   "source": [
    "## Importing modules and set up"
   ]
  },
  {
   "cell_type": "code",
   "execution_count": 1,
   "id": "98abc728",
   "metadata": {},
   "outputs": [
    {
     "name": "stderr",
     "output_type": "stream",
     "text": [
      "Global seed set to 1\n"
     ]
    },
    {
     "name": "stdout",
     "output_type": "stream",
     "text": [
      "Available GPUS: 1\n",
      "Batch size: 256\n",
      "Num Workers: 6\n"
     ]
    }
   ],
   "source": [
    "# importing the pytorch modules\n",
    "import os\n",
    "import torch\n",
    "import torch.nn as nn\n",
    "import torch.nn.functional as F\n",
    "import torchvision\n",
    "\n",
    "# importing the pytorch lightning modules\n",
    "from pl_bolts.datamodules import CIFAR10DataModule\n",
    "from pl_bolts.transforms.dataset_normalizations import cifar10_normalization\n",
    "from pytorch_lightning import LightningModule, Trainer, seed_everything\n",
    "from pytorch_lightning.callbacks import LearningRateMonitor, EarlyStopping\n",
    "from pytorch_lightning.loggers import TensorBoardLogger\n",
    "\n",
    "# importing the modules for the optimizer\n",
    "from torch.optim.lr_scheduler import OneCycleLR\n",
    "from torch.optim.swa_utils import AveragedModel, update_bn\n",
    "from torchmetrics.functional import accuracy\n",
    "\n",
    "# seeding everything to ensure reproducable results\n",
    "seed_everything(1)\n",
    "\n",
    "# Set up the Path\n",
    "Path = os.environ.get(\"PATH_DATASETS\", \".\")\n",
    "\n",
    "# Set up dataset and GPU, batch size and number of workers (for data loading, based on # cpu cores)\n",
    "PATH_DATASETS = os.environ.get(\"PATH_DATASETS\", \".\")\n",
    "AVAIL_GPUS = min(1, torch.cuda.device_count())\n",
    "BATCH_SIZE = 256 if AVAIL_GPUS else 64\n",
    "NUM_WORKERS = int(os.cpu_count() / 2)\n",
    "\n",
    "print(\"Available GPUS:\", AVAIL_GPUS)\n",
    "print(\"Batch size:\", BATCH_SIZE)\n",
    "print(\"Num Workers:\", NUM_WORKERS)\n",
    "\n",
    "# set gpu as device, if available\n",
    "device = torch.device(\"cuda\" if torch.cuda.is_available() else \"cpu\")"
   ]
  },
  {
   "cell_type": "markdown",
   "id": "e3195363",
   "metadata": {},
   "source": [
    "## Cifar10 Dataset"
   ]
  },
  {
   "cell_type": "markdown",
   "id": "4e43cf6c",
   "metadata": {},
   "source": [
    "The CIFAR10 Dataset consists of 60000  32x32 images.\n",
    "\n",
    "In order increase the number of possible samples in the training dataset, I set up some transformations.\n",
    "\n",
    "transformations for the training dataset:\n",
    " - crop a random 32x32 part of the source image\n",
    " - randomly flip image horizontally\n",
    " - convert data to tensor\n",
    " - normalize data"
   ]
  },
  {
   "cell_type": "code",
   "execution_count": 2,
   "id": "f17ab953",
   "metadata": {},
   "outputs": [],
   "source": [
    "train_transforms = torchvision.transforms.Compose(    [\n",
    "        torchvision.transforms.RandomCrop(32, padding=4),\n",
    "        torchvision.transforms.RandomHorizontalFlip(),\n",
    "        torchvision.transforms.ToTensor(),\n",
    "        cifar10_normalization(),\n",
    "    ]\n",
    ")"
   ]
  },
  {
   "cell_type": "markdown",
   "id": "e7d5bb64",
   "metadata": {},
   "source": [
    "Transformations for the test and validation dataset:\n",
    " - convert data to tensor\n",
    " - normalize data according"
   ]
  },
  {
   "cell_type": "code",
   "execution_count": 3,
   "id": "a25f1d81",
   "metadata": {},
   "outputs": [],
   "source": [
    "test_transforms = torchvision.transforms.Compose(    \n",
    "    [\n",
    "        torchvision.transforms.ToTensor(),\n",
    "        cifar10_normalization(),\n",
    "    ]\n",
    ")"
   ]
  },
  {
   "cell_type": "markdown",
   "id": "f7676661",
   "metadata": {},
   "source": [
    "Loading the dataset:"
   ]
  },
  {
   "cell_type": "code",
   "execution_count": 4,
   "id": "026da425",
   "metadata": {},
   "outputs": [
    {
     "name": "stderr",
     "output_type": "stream",
     "text": [
      "/home/paul/anaconda3/lib/python3.9/site-packages/pytorch_lightning/core/datamodule.py:73: LightningDeprecationWarning: DataModule property `train_transforms` was deprecated in v1.5 and will be removed in v1.7.\n",
      "  rank_zero_deprecation(\n",
      "/home/paul/anaconda3/lib/python3.9/site-packages/pytorch_lightning/core/datamodule.py:77: LightningDeprecationWarning: DataModule property `val_transforms` was deprecated in v1.5 and will be removed in v1.7.\n",
      "  rank_zero_deprecation(\n",
      "/home/paul/anaconda3/lib/python3.9/site-packages/pytorch_lightning/core/datamodule.py:81: LightningDeprecationWarning: DataModule property `test_transforms` was deprecated in v1.5 and will be removed in v1.7.\n",
      "  rank_zero_deprecation(\n"
     ]
    }
   ],
   "source": [
    "cifar10_data_module = CIFAR10DataModule(\n",
    "    data_dir=PATH_DATASETS,\n",
    "    batch_size=BATCH_SIZE,\n",
    "    num_workers=NUM_WORKERS,\n",
    "    train_transforms=train_transforms,\n",
    "    val_transforms=test_transforms,\n",
    "    test_transforms=test_transforms,\n",
    ")"
   ]
  },
  {
   "cell_type": "markdown",
   "id": "a5f57bf4",
   "metadata": {},
   "source": [
    "## Network Architecture\n",
    "\n",
    "The network constists of four composite convolutional layers followed by three linear layers.\n",
    "The composite layers are constructed as:\n",
    "1. Convolutional layer\n",
    "1. MaxPool layer\n",
    "1. ReLU layer\n",
    "1. BatchNorm layer"
   ]
  },
  {
   "cell_type": "code",
   "execution_count": 5,
   "id": "b6a221aa",
   "metadata": {},
   "outputs": [
    {
     "data": {
      "text/plain": [
       "Sequential(\n",
       "  (0): Conv2d(3, 32, kernel_size=(2, 2), stride=(1, 1))\n",
       "  (1): MaxPool2d(kernel_size=2, stride=2, padding=0, dilation=1, ceil_mode=False)\n",
       "  (2): ReLU()\n",
       "  (3): BatchNorm2d(32, eps=1e-05, momentum=0.1, affine=True, track_running_stats=True)\n",
       "  (4): Conv2d(32, 64, kernel_size=(2, 2), stride=(1, 1))\n",
       "  (5): MaxPool2d(kernel_size=2, stride=2, padding=0, dilation=1, ceil_mode=False)\n",
       "  (6): ReLU()\n",
       "  (7): BatchNorm2d(64, eps=1e-05, momentum=0.1, affine=True, track_running_stats=True)\n",
       "  (8): Conv2d(64, 128, kernel_size=(2, 2), stride=(1, 1))\n",
       "  (9): MaxPool2d(kernel_size=2, stride=2, padding=0, dilation=1, ceil_mode=False)\n",
       "  (10): ReLU()\n",
       "  (11): BatchNorm2d(128, eps=1e-05, momentum=0.1, affine=True, track_running_stats=True)\n",
       "  (12): Conv2d(128, 256, kernel_size=(2, 2), stride=(1, 1))\n",
       "  (13): MaxPool2d(kernel_size=2, stride=2, padding=0, dilation=1, ceil_mode=False)\n",
       "  (14): ReLU()\n",
       "  (15): BatchNorm2d(256, eps=1e-05, momentum=0.1, affine=True, track_running_stats=True)\n",
       "  (16): Flatten(start_dim=1, end_dim=-1)\n",
       "  (17): Linear(in_features=256, out_features=120, bias=True)\n",
       "  (18): ReLU()\n",
       "  (19): Linear(in_features=120, out_features=84, bias=True)\n",
       "  (20): ReLU()\n",
       "  (21): Linear(in_features=84, out_features=10, bias=True)\n",
       ")"
      ]
     },
     "execution_count": 5,
     "metadata": {},
     "output_type": "execute_result"
    }
   ],
   "source": [
    "network = nn.Sequential(\n",
    "    # Composite layer 1\n",
    "    nn.Conv2d(3, 32, kernel_size=2),\n",
    "    nn.MaxPool2d(2,2),\n",
    "    nn.ReLU(),\n",
    "    nn.BatchNorm2d(32),\n",
    "    \n",
    "    # Composite layer 2\n",
    "    nn.Conv2d(32, 64, kernel_size=2),\n",
    "    nn.MaxPool2d(2,2),\n",
    "    nn.ReLU(),\n",
    "    nn.BatchNorm2d(64),\n",
    "    \n",
    "    # Composite layer 3\n",
    "    nn.Conv2d(64, 128, kernel_size=2),\n",
    "    nn.MaxPool2d(2,2),\n",
    "    nn.ReLU(),\n",
    "    nn.BatchNorm2d(128),\n",
    "    \n",
    "    # Composite layer 4\n",
    "    nn.Conv2d(128, 256, kernel_size=2),\n",
    "    nn.MaxPool2d(2,2),\n",
    "    nn.ReLU(),\n",
    "    nn.BatchNorm2d(256),\n",
    "    \n",
    "    # Linear layers\n",
    "    nn.Flatten(),\n",
    "    nn.Linear(256*1*1, 120),\n",
    "    nn.ReLU(),\n",
    "    nn.Linear(120, 84),\n",
    "    nn.ReLU(),\n",
    "    nn.Linear(84, 10),\n",
    ")\n",
    "\n",
    "# putting the network on to the GPU \n",
    "network.to(device)"
   ]
  },
  {
   "cell_type": "markdown",
   "id": "79602318",
   "metadata": {},
   "source": [
    "Check the input and output dimensions of the layers."
   ]
  },
  {
   "cell_type": "code",
   "execution_count": 6,
   "id": "9f959a50",
   "metadata": {},
   "outputs": [
    {
     "name": "stdout",
     "output_type": "stream",
     "text": [
      "----------------------------------------------------------------\n",
      "        Layer (type)               Output Shape         Param #\n",
      "================================================================\n",
      "            Conv2d-1           [-1, 32, 31, 31]             416\n",
      "         MaxPool2d-2           [-1, 32, 15, 15]               0\n",
      "              ReLU-3           [-1, 32, 15, 15]               0\n",
      "       BatchNorm2d-4           [-1, 32, 15, 15]              64\n",
      "            Conv2d-5           [-1, 64, 14, 14]           8,256\n",
      "         MaxPool2d-6             [-1, 64, 7, 7]               0\n",
      "              ReLU-7             [-1, 64, 7, 7]               0\n",
      "       BatchNorm2d-8             [-1, 64, 7, 7]             128\n",
      "            Conv2d-9            [-1, 128, 6, 6]          32,896\n",
      "        MaxPool2d-10            [-1, 128, 3, 3]               0\n",
      "             ReLU-11            [-1, 128, 3, 3]               0\n",
      "      BatchNorm2d-12            [-1, 128, 3, 3]             256\n",
      "           Conv2d-13            [-1, 256, 2, 2]         131,328\n",
      "        MaxPool2d-14            [-1, 256, 1, 1]               0\n",
      "             ReLU-15            [-1, 256, 1, 1]               0\n",
      "      BatchNorm2d-16            [-1, 256, 1, 1]             512\n",
      "          Flatten-17                  [-1, 256]               0\n",
      "           Linear-18                  [-1, 120]          30,840\n",
      "             ReLU-19                  [-1, 120]               0\n",
      "           Linear-20                   [-1, 84]          10,164\n",
      "             ReLU-21                   [-1, 84]               0\n",
      "           Linear-22                   [-1, 10]             850\n",
      "================================================================\n",
      "Total params: 215,710\n",
      "Trainable params: 215,710\n",
      "Non-trainable params: 0\n",
      "----------------------------------------------------------------\n",
      "Input size (MB): 0.01\n",
      "Forward/backward pass size (MB): 0.65\n",
      "Params size (MB): 0.82\n",
      "Estimated Total Size (MB): 1.48\n",
      "----------------------------------------------------------------\n"
     ]
    }
   ],
   "source": [
    "from torchsummary import summary\n",
    "\n",
    "summary(network, (3, 32, 32))"
   ]
  },
  {
   "cell_type": "markdown",
   "id": "bf29651e",
   "metadata": {},
   "source": [
    "## Defining the model\n",
    "\n",
    "Next, I define the loss function, the accuracy function, and the optimizer.\n",
    "\n",
    "As loss function I chose the negative log likelyhood loss funtion. It is useful in classification tasks.  \n",
    "I use the accuracy function from torchmetrics.  \n",
    "I use a stochastic gradient descent optimizer with a learning rare of 0.05.  \n",
    "The learning rate is adapted with learning rate scheduler."
   ]
  },
  {
   "cell_type": "code",
   "execution_count": 7,
   "id": "a4134c69",
   "metadata": {},
   "outputs": [],
   "source": [
    "class NeuralNetwork(LightningModule):\n",
    "    def __init__(self, model, lr=0.05):\n",
    "        super().__init__()\n",
    "    \n",
    "        self.save_hyperparameters()\n",
    "        self.model = model\n",
    "        \n",
    "    def forward(self, x):\n",
    "        out = self.model(x)\n",
    "        return F.log_softmax(out, dim=1)\n",
    "    \n",
    "    def training_step(self, batch, batch_idx):\n",
    "        x, y = batch\n",
    "        logits = self(x)\n",
    "        loss = F.nll_loss(logits, y)\n",
    "        self.log(\"train_loss\", loss)\n",
    "        return loss\n",
    "    \n",
    "    def evaluate(self, batch, stage=None):\n",
    "        x, y = batch\n",
    "        logits = self(x)\n",
    "        \n",
    "        loss = F.nll_loss(logits, y)\n",
    "        preds = torch.argmax(logits, dim=1)\n",
    "        acc =  accuracy(preds, y)\n",
    "        \n",
    "        if stage:\n",
    "            self.log(f\"{stage}_loss\", loss, prog_bar=True)\n",
    "            self.log(f\"{stage}_acc\", acc, prog_bar=True)\n",
    "    \n",
    "    def validation_step(self, batch, batch_idx):\n",
    "        self.evaluate(batch, \"val\")\n",
    "        \n",
    "    def test_step(self, batch, batch_idx):\n",
    "        self.evaluate(batch, \"test\")\n",
    "    \n",
    "    def configure_optimizers(self):\n",
    "        optimizer = torch.optim.SGD(\n",
    "            self.parameters(),\n",
    "            lr = self.hparams.lr,\n",
    "        )\n",
    "        \n",
    "        steps_per_epoch = 45000 // BATCH_SIZE\n",
    "        \n",
    "        scheduler_dict = {\n",
    "            \"scheduler\": OneCycleLR(\n",
    "                optimizer,\n",
    "                0.1,\n",
    "                epochs = self.trainer.max_epochs,\n",
    "                steps_per_epoch=steps_per_epoch,\n",
    "            ),\n",
    "            \"interval\": \"step\",\n",
    "        }\n",
    "        return {\"optimizer\": optimizer, \"lr_scheduler\": scheduler_dict}"
   ]
  },
  {
   "cell_type": "markdown",
   "id": "096fa85e",
   "metadata": {},
   "source": [
    "Initializing the model and setting a data module"
   ]
  },
  {
   "cell_type": "code",
   "execution_count": 8,
   "id": "c9e54ce8",
   "metadata": {},
   "outputs": [],
   "source": [
    "model = NeuralNetwork(network, lr=0.05)\n",
    "model.datamodule = cifar10_data_module"
   ]
  },
  {
   "cell_type": "markdown",
   "id": "58f1999d",
   "metadata": {},
   "source": [
    "## Define the trainer\n",
    "\n",
    "I use the trainer class frompytorch lightning with a progressbar, a tensorboard logger and an early stopping mechanism that monitors the validation loss."
   ]
  },
  {
   "cell_type": "code",
   "execution_count": 9,
   "id": "2d57b4a6",
   "metadata": {},
   "outputs": [
    {
     "name": "stderr",
     "output_type": "stream",
     "text": [
      "/home/paul/anaconda3/lib/python3.9/site-packages/pytorch_lightning/trainer/connectors/callback_connector.py:90: LightningDeprecationWarning: Setting `Trainer(progress_bar_refresh_rate=10)` is deprecated in v1.5 and will be removed in v1.7. Please pass `pytorch_lightning.callbacks.progress.TQDMProgressBar` with `refresh_rate` directly to the Trainer's `callbacks` argument instead. Or, to disable the progress bar pass `enable_progress_bar = False` to the Trainer.\n",
      "  rank_zero_deprecation(\n",
      "GPU available: True, used: True\n",
      "TPU available: False, using: 0 TPU cores\n",
      "IPU available: False, using: 0 IPUs\n"
     ]
    }
   ],
   "source": [
    "trainer = Trainer(\n",
    "    progress_bar_refresh_rate=10,\n",
    "    max_epochs=100,\n",
    "    gpus=AVAIL_GPUS,\n",
    "    logger=TensorBoardLogger(\"lightning_logs/\"),\n",
    "    callbacks=[\n",
    "        LearningRateMonitor(logging_interval=\"step\"),\n",
    "        EarlyStopping(monitor=\"val_loss\", patience=3),\n",
    "    ],\n",
    "    \n",
    ")"
   ]
  },
  {
   "cell_type": "code",
   "execution_count": 10,
   "id": "6e0d6ff3",
   "metadata": {},
   "outputs": [
    {
     "data": {
      "text/html": [
       "\n",
       "      <iframe id=\"tensorboard-frame-91b7584a2265b1f5\" width=\"100%\" height=\"800\" frameborder=\"0\">\n",
       "      </iframe>\n",
       "      <script>\n",
       "        (function() {\n",
       "          const frame = document.getElementById(\"tensorboard-frame-91b7584a2265b1f5\");\n",
       "          const url = new URL(\"/\", window.location);\n",
       "          const port = 6006;\n",
       "          if (port) {\n",
       "            url.port = port;\n",
       "          }\n",
       "          frame.src = url;\n",
       "        })();\n",
       "      </script>\n",
       "    "
      ],
      "text/plain": [
       "<IPython.core.display.HTML object>"
      ]
     },
     "metadata": {},
     "output_type": "display_data"
    }
   ],
   "source": [
    "os.environ['TENSORBOARD_BINARY'] = '/home/paul/anaconda3/bin/tensorboard'\n",
    "# Start tensorboard.\n",
    "%reload_ext tensorboard\n",
    "%tensorboard --logdir lightning_logs/"
   ]
  },
  {
   "cell_type": "markdown",
   "id": "6f89427a",
   "metadata": {},
   "source": [
    "## Train the network"
   ]
  },
  {
   "cell_type": "code",
   "execution_count": 11,
   "id": "62cf802c",
   "metadata": {},
   "outputs": [
    {
     "name": "stdout",
     "output_type": "stream",
     "text": [
      "Files already downloaded and verified\n",
      "Files already downloaded and verified\n"
     ]
    },
    {
     "name": "stderr",
     "output_type": "stream",
     "text": [
      "/home/paul/anaconda3/lib/python3.9/site-packages/pytorch_lightning/core/datamodule.py:114: LightningDeprecationWarning: DataModule property `train_transforms` was deprecated in v1.5 and will be removed in v1.7.\n",
      "  rank_zero_deprecation(\n",
      "/home/paul/anaconda3/lib/python3.9/site-packages/pytorch_lightning/core/datamodule.py:133: LightningDeprecationWarning: DataModule property `val_transforms` was deprecated in v1.5 and will be removed in v1.7.\n",
      "  rank_zero_deprecation(\n",
      "LOCAL_RANK: 0 - CUDA_VISIBLE_DEVICES: [0]\n",
      "2022-02-10 13:33:15.499367: W tensorflow/stream_executor/platform/default/dso_loader.cc:64] Could not load dynamic library 'libcudart.so.11.0'; dlerror: libcudart.so.11.0: cannot open shared object file: No such file or directory\n",
      "2022-02-10 13:33:15.499385: I tensorflow/stream_executor/cuda/cudart_stub.cc:29] Ignore above cudart dlerror if you do not have a GPU set up on your machine.\n",
      "\n",
      "  | Name  | Type       | Params\n",
      "-------------------------------------\n",
      "0 | model | Sequential | 215 K \n",
      "-------------------------------------\n",
      "215 K     Trainable params\n",
      "0         Non-trainable params\n",
      "215 K     Total params\n",
      "0.863     Total estimated model params size (MB)\n"
     ]
    },
    {
     "data": {
      "application/vnd.jupyter.widget-view+json": {
       "model_id": "",
       "version_major": 2,
       "version_minor": 0
      },
      "text/plain": [
       "Validation sanity check: 0it [00:00, ?it/s]"
      ]
     },
     "metadata": {},
     "output_type": "display_data"
    },
    {
     "name": "stderr",
     "output_type": "stream",
     "text": [
      "Global seed set to 1\n"
     ]
    },
    {
     "data": {
      "application/vnd.jupyter.widget-view+json": {
       "model_id": "75b29590407a4765811ded0b40a1c651",
       "version_major": 2,
       "version_minor": 0
      },
      "text/plain": [
       "Training: 0it [00:00, ?it/s]"
      ]
     },
     "metadata": {},
     "output_type": "display_data"
    },
    {
     "data": {
      "application/vnd.jupyter.widget-view+json": {
       "model_id": "",
       "version_major": 2,
       "version_minor": 0
      },
      "text/plain": [
       "Validating: 0it [00:00, ?it/s]"
      ]
     },
     "metadata": {},
     "output_type": "display_data"
    },
    {
     "data": {
      "application/vnd.jupyter.widget-view+json": {
       "model_id": "",
       "version_major": 2,
       "version_minor": 0
      },
      "text/plain": [
       "Validating: 0it [00:00, ?it/s]"
      ]
     },
     "metadata": {},
     "output_type": "display_data"
    },
    {
     "data": {
      "application/vnd.jupyter.widget-view+json": {
       "model_id": "",
       "version_major": 2,
       "version_minor": 0
      },
      "text/plain": [
       "Validating: 0it [00:00, ?it/s]"
      ]
     },
     "metadata": {},
     "output_type": "display_data"
    },
    {
     "data": {
      "application/vnd.jupyter.widget-view+json": {
       "model_id": "",
       "version_major": 2,
       "version_minor": 0
      },
      "text/plain": [
       "Validating: 0it [00:00, ?it/s]"
      ]
     },
     "metadata": {},
     "output_type": "display_data"
    },
    {
     "data": {
      "application/vnd.jupyter.widget-view+json": {
       "model_id": "",
       "version_major": 2,
       "version_minor": 0
      },
      "text/plain": [
       "Validating: 0it [00:00, ?it/s]"
      ]
     },
     "metadata": {},
     "output_type": "display_data"
    },
    {
     "data": {
      "application/vnd.jupyter.widget-view+json": {
       "model_id": "",
       "version_major": 2,
       "version_minor": 0
      },
      "text/plain": [
       "Validating: 0it [00:00, ?it/s]"
      ]
     },
     "metadata": {},
     "output_type": "display_data"
    },
    {
     "data": {
      "application/vnd.jupyter.widget-view+json": {
       "model_id": "",
       "version_major": 2,
       "version_minor": 0
      },
      "text/plain": [
       "Validating: 0it [00:00, ?it/s]"
      ]
     },
     "metadata": {},
     "output_type": "display_data"
    },
    {
     "data": {
      "application/vnd.jupyter.widget-view+json": {
       "model_id": "",
       "version_major": 2,
       "version_minor": 0
      },
      "text/plain": [
       "Validating: 0it [00:00, ?it/s]"
      ]
     },
     "metadata": {},
     "output_type": "display_data"
    },
    {
     "data": {
      "application/vnd.jupyter.widget-view+json": {
       "model_id": "",
       "version_major": 2,
       "version_minor": 0
      },
      "text/plain": [
       "Validating: 0it [00:00, ?it/s]"
      ]
     },
     "metadata": {},
     "output_type": "display_data"
    },
    {
     "data": {
      "application/vnd.jupyter.widget-view+json": {
       "model_id": "",
       "version_major": 2,
       "version_minor": 0
      },
      "text/plain": [
       "Validating: 0it [00:00, ?it/s]"
      ]
     },
     "metadata": {},
     "output_type": "display_data"
    },
    {
     "data": {
      "application/vnd.jupyter.widget-view+json": {
       "model_id": "",
       "version_major": 2,
       "version_minor": 0
      },
      "text/plain": [
       "Validating: 0it [00:00, ?it/s]"
      ]
     },
     "metadata": {},
     "output_type": "display_data"
    },
    {
     "data": {
      "application/vnd.jupyter.widget-view+json": {
       "model_id": "",
       "version_major": 2,
       "version_minor": 0
      },
      "text/plain": [
       "Validating: 0it [00:00, ?it/s]"
      ]
     },
     "metadata": {},
     "output_type": "display_data"
    },
    {
     "data": {
      "application/vnd.jupyter.widget-view+json": {
       "model_id": "",
       "version_major": 2,
       "version_minor": 0
      },
      "text/plain": [
       "Validating: 0it [00:00, ?it/s]"
      ]
     },
     "metadata": {},
     "output_type": "display_data"
    },
    {
     "data": {
      "application/vnd.jupyter.widget-view+json": {
       "model_id": "",
       "version_major": 2,
       "version_minor": 0
      },
      "text/plain": [
       "Validating: 0it [00:00, ?it/s]"
      ]
     },
     "metadata": {},
     "output_type": "display_data"
    },
    {
     "data": {
      "application/vnd.jupyter.widget-view+json": {
       "model_id": "",
       "version_major": 2,
       "version_minor": 0
      },
      "text/plain": [
       "Validating: 0it [00:00, ?it/s]"
      ]
     },
     "metadata": {},
     "output_type": "display_data"
    },
    {
     "data": {
      "application/vnd.jupyter.widget-view+json": {
       "model_id": "",
       "version_major": 2,
       "version_minor": 0
      },
      "text/plain": [
       "Validating: 0it [00:00, ?it/s]"
      ]
     },
     "metadata": {},
     "output_type": "display_data"
    },
    {
     "data": {
      "application/vnd.jupyter.widget-view+json": {
       "model_id": "",
       "version_major": 2,
       "version_minor": 0
      },
      "text/plain": [
       "Validating: 0it [00:00, ?it/s]"
      ]
     },
     "metadata": {},
     "output_type": "display_data"
    },
    {
     "data": {
      "application/vnd.jupyter.widget-view+json": {
       "model_id": "",
       "version_major": 2,
       "version_minor": 0
      },
      "text/plain": [
       "Validating: 0it [00:00, ?it/s]"
      ]
     },
     "metadata": {},
     "output_type": "display_data"
    },
    {
     "data": {
      "application/vnd.jupyter.widget-view+json": {
       "model_id": "",
       "version_major": 2,
       "version_minor": 0
      },
      "text/plain": [
       "Validating: 0it [00:00, ?it/s]"
      ]
     },
     "metadata": {},
     "output_type": "display_data"
    },
    {
     "data": {
      "application/vnd.jupyter.widget-view+json": {
       "model_id": "",
       "version_major": 2,
       "version_minor": 0
      },
      "text/plain": [
       "Validating: 0it [00:00, ?it/s]"
      ]
     },
     "metadata": {},
     "output_type": "display_data"
    }
   ],
   "source": [
    "trainer.fit(model, cifar10_data_module)"
   ]
  },
  {
   "cell_type": "markdown",
   "id": "a6a79122",
   "metadata": {},
   "source": [
    "## Test the network"
   ]
  },
  {
   "cell_type": "code",
   "execution_count": 12,
   "id": "a16d0f16",
   "metadata": {},
   "outputs": [],
   "source": [
    "#trainer.test(model, datamodule=cifar10_data_module)"
   ]
  }
 ],
 "metadata": {
  "kernelspec": {
   "display_name": "base",
   "language": "python",
   "name": "base"
  },
  "language_info": {
   "codemirror_mode": {
    "name": "ipython",
    "version": 3
   },
   "file_extension": ".py",
   "mimetype": "text/x-python",
   "name": "python",
   "nbconvert_exporter": "python",
   "pygments_lexer": "ipython3",
   "version": "3.9.7"
  }
 },
 "nbformat": 4,
 "nbformat_minor": 5
}
